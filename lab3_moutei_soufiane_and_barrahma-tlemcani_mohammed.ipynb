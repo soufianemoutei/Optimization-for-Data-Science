{
 "cells": [
  {
   "cell_type": "markdown",
   "metadata": {},
   "source": [
    "# Short Lab 3 : Proximal/cyclic/greedy coordinate descent\n",
    "\n",
    "#### Authors: M. Massias, P. Ablin\n",
    "\n",
    "## Aim\n",
    "\n",
    "The aim of this material is to code \n",
    "- cyclic and greedy coordinate descent for ordinary least squares (OLS)\n",
    "- proximal gradient descent for sparse Logistic regression\n",
    "\n",
    "## VERY IMPORTANT\n",
    "\n",
    "- This work **must be done by pairs of students**.\n",
    "- **Each** student must send their work **before the 11th of november at 23:59**, using the **moodle platform**.\n",
    "- This means that **each student in the pair sends the same file**\n",
    "- On the moodle, in the \"Optimization for Data Science\" course, you have a \"devoir\" section called **Rendu TP du 5 novembre 2017**. This is where you submit your jupyter notebook file. \n",
    "- The **name of the file must be** constructed as in the next cell\n",
    "\n",
    "# Gentle reminder: no evaluation if you don't respect this EXACTLY\n",
    "\n",
    "### How to construct the name of your file"
   ]
  },
  {
   "cell_type": "code",
   "execution_count": 1,
   "metadata": {},
   "outputs": [
    {
     "name": "stdout",
     "output_type": "stream",
     "text": [
      "lab3_moutei_soufiane_and_barrahma-tlemcani_mohammed.ipynb\n"
     ]
    }
   ],
   "source": [
    "# Change here using YOUR first and last names\n",
    "fn1 = \"soufiane\"\n",
    "ln1 = \"moutei\"\n",
    "fn2 = \"mohammed\"\n",
    "ln2 = \"barrahma-tlemcani\"\n",
    "\n",
    "filename = \"_\".join(map(lambda s: s.strip().lower(), \n",
    "                        [\"lab3\", ln1, fn1, \"and\", ln2, fn2])) + \".ipynb\"\n",
    "print(filename)"
   ]
  },
  {
   "cell_type": "code",
   "execution_count": 2,
   "metadata": {},
   "outputs": [],
   "source": [
    "import numpy as np\n",
    "from numpy.linalg import norm\n",
    "import matplotlib.pyplot as plt"
   ]
  },
  {
   "cell_type": "code",
   "execution_count": 3,
   "metadata": {},
   "outputs": [],
   "source": [
    "# the usual functions:\n",
    "\n",
    "from numpy.random import multivariate_normal\n",
    "from scipy.linalg.special_matrices import toeplitz\n",
    "from numpy.random import randn\n",
    "\n",
    "\n",
    "def simu(coefs, n_samples=1000, corr=0.5, for_logreg=False):\n",
    "    n_features = len(coefs)\n",
    "    cov = toeplitz(corr ** np.arange(0, n_features))\n",
    "    A = multivariate_normal(np.zeros(n_features), cov, size=n_samples)\n",
    "    b = A.dot(coefs) + randn(n_samples)\n",
    "    if for_logreg:\n",
    "        b = np.sign(b)\n",
    "    return A, b\n"
   ]
  },
  {
   "cell_type": "markdown",
   "metadata": {},
   "source": [
    "## Part 1: Ordinary Least Squares\n",
    "\n",
    "\n",
    "Let $A \\in \\mathbb{R}^{n \\times p}$, $y \\in \\mathbb{R}^n$.\n",
    "We want to use coordinate descent to solve:\n",
    "    $$\\hat w \\in  \\mathrm{arg \\, min \\,} \\frac 12 \\Vert Aw - b \\Vert ^2 $$\n",
    "\n",
    "We ask you to code:\n",
    "- cyclic coordinate descent: at iteration $t$, update feature $j = t \\mod p$\n",
    "- greedy coordinate descent: at iteration $t$, update feature having the largest partial gradient in magnitude, ie $j = \\mathrm{arg\\, max \\,}_{i} \\vert \\nabla_i f(w_t) \\vert$.\n",
    "\n",
    "\n",
    "**WARNING**: You must do this in a clever way, ie such that $p$ updates cost the same as one update of GD."
   ]
  },
  {
   "cell_type": "code",
   "execution_count": 4,
   "metadata": {},
   "outputs": [],
   "source": [
    "n_features = 100\n",
    "np.random.seed(1970)\n",
    "coefs = np.random.randn(n_features)\n",
    "\n",
    "A, b = simu(coefs, n_samples=1000, for_logreg=False)"
   ]
  },
  {
   "cell_type": "code",
   "execution_count": 5,
   "metadata": {},
   "outputs": [],
   "source": [
    "def cyclic_cd(A, b, n_iter):\n",
    "    n_samples, n_features = A.shape\n",
    "    all_objs = []\n",
    "    \n",
    "    w = np.zeros(n_features)\n",
    "    residuals = b - A.dot(w)\n",
    "    \n",
    "    # TODO\n",
    "    lips_const = np.sum(A * A, axis=0)\n",
    "    # END TODO\n",
    "    \n",
    "    for t in range(n_iter):\n",
    "        j = t % n_features\n",
    "        # TODO\n",
    "        old_w_j = w[j].copy()\n",
    "        w[j] += A[:, j].T.dot(residuals) / lips_const[j]\n",
    "        # update residuals:\n",
    "        residuals += (old_w_j - w[j]) * A[:, j]\n",
    "        # END TODO\n",
    "        \n",
    "        if t % n_features == 0:\n",
    "            all_objs.append((residuals ** 2).sum() / 2.)\n",
    "    return w, np.array(all_objs)\n",
    "\n",
    "\n",
    "\n",
    "def greedy_cd(A, b, n_iter):\n",
    "    n_samples, n_features = A.shape\n",
    "    all_objs = []\n",
    "    \n",
    "    w = np.zeros(n_features)\n",
    "    \n",
    "    gradient = A.T.dot(A.dot(w) - b)\n",
    "    gram = A.T.dot(A)  # you will need this to keep the gradient up to date\n",
    "    \n",
    "    # TODO\n",
    "    lips_const = np.sum(A * A, axis=0)\n",
    "    # END TODO \n",
    "    \n",
    "    for t in range(n_iter):\n",
    "        # TODO\n",
    "        # choose feature j to update: \n",
    "        j = np.argmax(np.abs(gradient))\n",
    "        old_w_j = w[j].copy()\n",
    "        w[j] -= (1. / lips_const[j]) * gradient[j]\n",
    "        # update gradient:\n",
    "        gradient += (w[j] - old_w_j) * gram[:, j]\n",
    "        # END TODO\n",
    "        \n",
    "        if t % n_features == 0:\n",
    "            all_objs.append(0.5 * np.linalg.norm(A.dot(w) - b) ** 2)\n",
    "    \n",
    "    return w, np.array(all_objs)"
   ]
  },
  {
   "cell_type": "markdown",
   "metadata": {},
   "source": [
    "- compute a precise minimum with your favorite solver"
   ]
  },
  {
   "cell_type": "code",
   "execution_count": 6,
   "metadata": {},
   "outputs": [
    {
     "name": "stdout",
     "output_type": "stream",
     "text": [
      "0.46638497653376565\n",
      "8.500829137667533e-09\n"
     ]
    }
   ],
   "source": [
    "from scipy.optimize import fmin_l_bfgs_b\n",
    "\n",
    "def loss(x, A, b):\n",
    "    \"\"\"Least-squares loss\"\"\"\n",
    "    n = len(b)\n",
    "    return ((norm(b - A.dot(x))) ** 2) / (2. * n)\n",
    "\n",
    "def grad(x, A, b):\n",
    "    \"\"\"Least-squares gradient\"\"\"\n",
    "    n = len(b)\n",
    "    return (1. / n) * A.T.dot(A.dot(x) - b)\n",
    "\n",
    "x_init = np.zeros(n_features)\n",
    "x_min, f_min, _ = fmin_l_bfgs_b(loss, x_init, grad, args=(A, b), pgtol=1e-30, factr=1e-30)\n",
    "\n",
    "print(f_min)\n",
    "print(norm(grad(x_min, A, b)))"
   ]
  },
  {
   "cell_type": "markdown",
   "metadata": {},
   "source": [
    "- compare the performance of cyclic and greedy CD"
   ]
  },
  {
   "cell_type": "code",
   "execution_count": 7,
   "metadata": {},
   "outputs": [],
   "source": [
    "x_cyclic, obj_cyclic = cyclic_cd(A, b, n_features * 1000)\n",
    "x_greedy, obj_greedy = greedy_cd(A, b, n_features * 1000)"
   ]
  },
  {
   "cell_type": "code",
   "execution_count": 8,
   "metadata": {},
   "outputs": [
    {
     "name": "stdout",
     "output_type": "stream",
     "text": [
      "1.535580847058284e-08\n",
      "1.5355803400592958e-08\n"
     ]
    }
   ],
   "source": [
    "print(norm(x_min - x_cyclic))\n",
    "print(norm(x_min - x_greedy))"
   ]
  },
  {
   "cell_type": "markdown",
   "metadata": {},
   "source": [
    "Let's take a look at some plots:"
   ]
  },
  {
   "cell_type": "code",
   "execution_count": 9,
   "metadata": {},
   "outputs": [
    {
     "data": {
      "image/png": "[encoded data removed]",
      "text/plain": [
       "<matplotlib.figure.Figure at 0x141fcf2470>"
      ]
     },
     "metadata": {},
     "output_type": "display_data"
    }
   ],
   "source": [
    "plt.figure(figsize=(15, 5))\n",
    "plt.subplot(1, 2, 1)\n",
    "plt.semilogy(obj_cyclic, label='Cyclic CD')\n",
    "plt.semilogy(obj_greedy, label='Greedy CD')\n",
    "plt.title(\"Loss\")\n",
    "plt.xlabel(\"Epoch\")\n",
    "plt.ylabel(\"objective\")\n",
    "plt.xlim(0,10)\n",
    "plt.legend()\n",
    "\n",
    "plt.subplot(1, 2, 2)\n",
    "plt.semilogy(obj_cyclic - f_min, lw=2, label='Cyclic CD')\n",
    "plt.semilogy(obj_greedy - f_min, lw=2, label='Greedy CD')\n",
    "plt.title(\"Distance to optimum\")\n",
    "plt.xlabel(\"Epoch\")\n",
    "plt.ylabel(\"$\\|x_k - x^*\\|_2$\")\n",
    "plt.xlim(0,10)\n",
    "plt.legend()\n",
    "    \n",
    "plt.show()"
   ]
  },
  {
   "cell_type": "markdown",
   "metadata": {},
   "source": [
    "Regardless of the fact that both algorithms achieve good results in reaching the minimum, the strongly convexity of the Least-squares loss allowed greedy coordinate descent to have a higher convergence rate than the cyclic algorithm."
   ]
  },
  {
   "cell_type": "markdown",
   "metadata": {},
   "source": [
    "- could you use greedy CD for unregularized logistic regression? for OLS, but with 100,000 features? Explain your answers."
   ]
  },
  {
   "cell_type": "markdown",
   "metadata": {},
   "source": [
    "# Answer:\n",
    "\n",
    "- For unregularized logistic regression, the loss function is not strongly convex and thus choosing the next step in the algorithm using the gradient is not optimal.\n",
    "- For OLS with 100000 features, choosing the next step in the algorithm using the gradient will be expensive in terms of computation, then, each iteration will require a large computation time which will make greedy CD computationally expensive leading to choose the cyclic CD."
   ]
  },
  {
   "cell_type": "markdown",
   "metadata": {},
   "source": [
    "## Part 2: Sparse Logistic regression"
   ]
  },
  {
   "cell_type": "markdown",
   "metadata": {},
   "source": [
    "### An important result\n",
    "\n",
    "Remember: we are solving \n",
    "$$\\hat w \\in \\mathrm{arg \\, min} \\sum_{i=1}^{n} \\mathrm{log} ( 1 + e^{- y_i w^\\top x_i} )  + \\lambda \\Vert w \\Vert_1$$\n",
    "1) Show that:\n",
    "$$ \\lambda \\geq \\lambda_{max} \\implies \\hat w = 0$$\n",
    "where $\\lambda_{max} := \\frac 12 \\Vert X^\\top y \\Vert_{\\infty}$.\n",
    "\n",
    "\n",
    "You will need the following beautiful result: for any $w =(w_1, \\dots, w_p) \\in \\mathbb{R}^p$, the subdifferential of the L1 norm at $w$ is:\n",
    "\n",
    "$$\\partial \\Vert \\cdot \\Vert_1 (w) = \\partial \\vert \\cdot \\vert_1 (w_1)  \\times \\dots \\times \\partial \\vert \\cdot \\vert_1 (w_p) $$\n",
    "where $\\times$ is the Cartesian product between sets,\n",
    "and $$ \\partial \\vert \\cdot \\vert_1 (w_1) = \n",
    "\\begin{cases} &w_j / |w_j| &\\mathrm{if} \\quad w_j \\neq 0, \n",
    "         \\\\ & [-1, 1] &\\mathrm{otherwise.} \n",
    "\\end{cases}\n",
    "$$\n",
    "\n",
    "\n",
    "(it should now be easy to find $\\partial \\Vert \\cdot \\Vert_1 (\\mathbf{0}_p)$)"
   ]
  },
  {
   "cell_type": "markdown",
   "metadata": {},
   "source": [
    "## ANSWER 1\n",
    "\n",
    "First, for $L(w) = \\sum_{i=1}^{n} \\mathrm{log} ( 1 + e^{- y_i w^\\top x_i} )$ we have $\\nabla L(w) = -\\sum_{i=1}^n \\frac{y_i x_i}{1+e^{y_i x_i^\\top w}}$\n",
    "\n",
    "Then, we have \n",
    "\n",
    "$$\n",
    "\\begin{split}\n",
    "\\partial (L(w) + \\lambda \\Vert \\cdot \\Vert_1 (w)) & = \\nabla L(w) + \\lambda \\partial \\Vert \\cdot \\Vert_1 (w) \\\\ & = - \\sum_{i=1}^n \\frac{y_i x_i}{1+e^{y_i x_i^\\top w}} + \\lambda \\partial \\Vert \\cdot \\Vert_1 (w)\n",
    "\\end{split}\n",
    "$$\n",
    "\n",
    "And at $w = \\mathbf{0}_p$, given the hints, we have:\n",
    "\n",
    "$$\n",
    "\\partial (L(\\mathbf{0}_p) + \\lambda \\Vert \\cdot \\Vert_1 (\\mathbf{0}_p)) = - \\frac{1}{2} \\sum_{i=1}^n y_i x_i + [-\\lambda,\\lambda]^p\n",
    "$$\n",
    "\n",
    "So:\n",
    "\n",
    "$$\n",
    "\\begin{split}\n",
    "\\mathbf{0}_p \\in \\mathrm{arg \\, min} \\sum_{i=1}^{n} \\mathrm{log} ( 1 + e^{- y_i w^\\top x_i} )  + \\lambda \\Vert w \\Vert_1\n",
    "&\\iff 0 \\in \\partial (L(\\mathbf{0}_p) + \\lambda \\Vert \\cdot \\Vert_1 (\\mathbf{0}_p))\\\\\n",
    "&\\iff \\frac{1}{2} \\sum_{i=1}^n y_i x_i \\in [-\\lambda,\\lambda]^p\\\\\n",
    "&\\iff \\frac 12 \\Vert X^\\top y \\Vert_{\\infty} \\leq \\lambda \\\\\n",
    "&\\iff \\lambda \\geq \\lambda_\\max\n",
    "\\end{split}\n",
    "$$\n",
    "\n",
    "\n",
    "We've just proofed the equivalence, which results in:\n",
    "$$ \\lambda \\geq \\lambda_{max} \\implies \\hat w = 0$$\n",
    "\n",
    " "
   ]
  },
  {
   "cell_type": "markdown",
   "metadata": {},
   "source": [
    "2) Show that for sparse Logistic regression the coordinate-wise Lipschitz constant of the smooth term, $\\gamma_j$, can be taken equal to $\\Vert X_j \\Vert^2 / 4$, where $X_j$ denotes the $j$-th column of $X$."
   ]
  },
  {
   "cell_type": "markdown",
   "metadata": {},
   "source": [
    "## ANSWER 2\n",
    "\n",
    "We'll proceed as we did in Exercise VI from *Exercise List: Properties and examples of convexity and smoothness*.\n",
    "\n",
    "If we write $L(w)$ as $L(w) = \\sum_{i=1}^n \\phi(y_i w^\\top x_i)$ where $\\phi (t) = \\log (1 + e^{-t})$\n",
    "\n",
    "we have directly the Hessian of $L(w)$ as: \n",
    "\n",
    "$$\\nabla^2 L(w) = X^\\top \\Phi (w) X$$\n",
    "\n",
    "Where $\\Phi (w) = \\text{diag}(\\phi'' (y_1 w^\\top x_1), \\dots, \\phi'' (y_n w^\\top x_n))$\n",
    "\n",
    "From one side we have: $\\forall t, \\ \\ \\phi'' (t) = \\frac{e^t}{(1+e^t)^2} \\leq \\frac{1}{4}$\n",
    "\n",
    "And from the other side we have the second derivative of $L$ as a function of $w_j$ equal to $X_j^\\top \\Phi (w) X_j$\n",
    "\n",
    "then: \n",
    "\n",
    "$$\n",
    "\\Vert X_j^\\top \\Phi (w) X_j \\Vert_{2} \\leq \\Vert X_j \\Vert_2^2 \\Vert \\Phi (w) \\Vert_2 \\leq \\frac{1}{4} \\Vert X_j \\Vert_2^2   \n",
    "$$\n",
    "\n",
    "Therefore, for sparse Logistic regression the coordinate-wise Lipschitz constant of the smooth term, $\\gamma_j$, can be taken equal to $\\frac{1}{4} \\Vert X_j \\Vert_2^2$, where $X_j$ denotes the $j$-th column of $X$."
   ]
  },
  {
   "cell_type": "markdown",
   "metadata": {},
   "source": [
    "You are now ready to code cyclic proximal coordinate descent for sparse Logistic regression:"
   ]
  },
  {
   "cell_type": "markdown",
   "metadata": {},
   "source": [
    "**Bonus**: show that is possible, when the current iterate is w, to use the better Lipschitz constant \n",
    "    $$L_j = \\sum_{i=1}^n  \\frac{X_{i, j}^2 \\mathrm{e}^{(Xw)_i}}{(1 + \\mathrm{e}^{(Xw)_i})^2}$$\n",
    "    \n",
    "(why is it better?)\n",
    "\n",
    "Implement it in the code with a `better_lc` parameter, and compare."
   ]
  },
  {
   "cell_type": "markdown",
   "metadata": {},
   "source": [
    "## ANSWER BONUS\n",
    "\n",
    "We can write the second derivative of $L$ as a function of $w_j$ as:\n",
    "\n",
    "$$ X_j^\\top \\Phi (w) X_j = \\sum_{i=1}^n X_{i, j}^2 \\phi'' (y_i w^\\top x_i)  = \\sum_{i=1}^n X_{i, j}^2 \\phi'' (y_i (Xw)_i)$$\n",
    "\n",
    "If $y_i = 1$, $\\phi'' (y_i (Xw)_i) = \\frac{\\mathrm{e}^{(Xw)_i}}{(1 + \\mathrm{e}^{(Xw)_i})^2}$\n",
    "\n",
    "If $y_i = -1$, $\\phi'' (y_i (Xw)_i) = \\frac{\\mathrm{e}^{-(Xw)_i}}{(1 + \\mathrm{e}^{-(Xw)_i})^2} = \\frac{\\mathrm{e}^{-(Xw)_i}}{(1 + \\mathrm{e}^{(Xw)_i})^2 \\mathrm{e}^{-2(Xw)_i}} = \\frac{\\mathrm{e}^{(Xw)_i}}{(1 + \\mathrm{e}^{(Xw)_i})^2}$\n",
    "\n",
    "Then, \n",
    "\n",
    "$$ X_j^\\top \\Phi (w) X_j = \\sum_{i=1}^n \\frac{X_{i, j}^2 \\mathrm{e}^{(Xw)_i}}{(1 + \\mathrm{e}^{(Xw)_i})^2}$$\n",
    "\n",
    "On the other hand, \n",
    "\n",
    "$$\\sum_{i=1}^n \\frac{X_{i, j}^2 \\mathrm{e}^{(Xw)_i}}{(1 + \\mathrm{e}^{(Xw)_i})^2} =  \\sum_{i=1}^n X_{i, j}^2 \\phi'' ((Xw)_i) \\leq \\sum_{i=1}^n X_{i, j}^2 \\times \\frac{1}{4} = \\frac{1}{4} \\Vert X_j \\Vert_2^2$$\n",
    "\n",
    "So, it is possible, when the current iterate is w, to use the better Lipschitz constant \n",
    "    $$L_j = \\sum_{i=1}^n  \\frac{X_{i, j}^2 \\mathrm{e}^{(Xw)_i}}{(1 + \\mathrm{e}^{(Xw)_i})^2}$$"
   ]
  },
  {
   "cell_type": "code",
   "execution_count": 10,
   "metadata": {},
   "outputs": [],
   "source": [
    "X, y = simu(coefs, n_samples=1000, for_logreg=True)\n",
    "lambda_max = norm(X.T.dot(y), ord= np.inf) / 2.\n",
    "lamb = lambda_max / 10.  \n",
    "# much easier to parametrize lambda as a function of lambda_max than \n",
    "# to take random values like 0.1 in previous Labs\n",
    "\n",
    "\n",
    "def sigmoid(t):\n",
    "    \"\"\"Sigmoid function\"\"\"\n",
    "    return 1. / (1. + np.exp(-t))\n",
    "\n",
    "\n",
    "def soft_thresh(x, u):\n",
    "    \"\"\"Soft thresholding of x at level u\"\"\"\n",
    "    return np.sign(x) * np.maximum(0., np.abs(x) - u)\n",
    "\n",
    "\n",
    "def cd_logreg(X, y, lamb, n_iter, better_lc=False):\n",
    "    n_samples, n_features = X.shape\n",
    "    w = np.zeros(n_features)\n",
    "    Xw = X.dot(w)\n",
    "    all_objs = np.zeros(n_iter)\n",
    "    \n",
    "    # TODO\n",
    "    lips_const = np.sum(X * X, axis=0) / 4.\n",
    "    # END TODO\n",
    "    \n",
    "    for t in range(n_iter):\n",
    "        for j in range(n_features):            \n",
    "            old_w_j = w[j].copy()\n",
    "            # TODO\n",
    "            grad_j = -X[:, j].dot(y * sigmoid(-y * Xw))\n",
    "            \n",
    "            if better_lc:\n",
    "                sigmoid_term = sigmoid(-Xw)\n",
    "                lips_const[j] = (X[:, j]**2).dot(sigmoid_term * (1 - sigmoid_term))\n",
    "            \n",
    "            w[j] = soft_thresh(w[j] - grad_j/lips_const[j], lamb/lips_const[j])\n",
    "            \n",
    "            if old_w_j != w[j]:\n",
    "                Xw += (w[j] - old_w_j) * X[:, j]\n",
    "            #END TODO\n",
    "            \n",
    "        all_objs[t] = np.log(1. + np.exp(-y * Xw)).sum() + lamb * norm(w, ord=1)\n",
    "    \n",
    "    return w, all_objs"
   ]
  },
  {
   "cell_type": "code",
   "execution_count": 11,
   "metadata": {},
   "outputs": [
    {
     "data": {
      "image/png": "[encoded data removed]",
      "text/plain": [
       "<matplotlib.figure.Figure at 0x15200d7c88>"
      ]
     },
     "metadata": {},
     "output_type": "display_data"
    }
   ],
   "source": [
    "x_better_lc, obj_better_lc = cd_logreg(X, y, lamb, n_iter=100, better_lc=True)\n",
    "x_no_better_lc, obj_no_better_lc = cd_logreg(X, y, lamb, n_iter=100)\n",
    "\n",
    "plt.figure(figsize=(15, 5))\n",
    "plt.subplot(1, 2, 1)\n",
    "plt.semilogy(obj_better_lc, label='Using better_lc')\n",
    "plt.semilogy(obj_no_better_lc, label='Without using better_lc')\n",
    "plt.title(\"Loss\")\n",
    "plt.xlabel(\"Epoch\")\n",
    "plt.ylabel(\"objective\")\n",
    "plt.xlim(0,10)\n",
    "plt.legend()\n",
    "\n",
    "plt.subplot(1, 2, 2)\n",
    "plt.semilogy(obj_better_lc - f_min, lw=2, label='Using better_lc')\n",
    "plt.semilogy(obj_no_better_lc - f_min, lw=2, label='Without using better_lc')\n",
    "plt.title(\"Distance to optimum\")\n",
    "plt.xlabel(\"Epoch\")\n",
    "plt.ylabel(\"$\\|x_k - x^*\\|_2$\")\n",
    "plt.xlim(0,10)\n",
    "plt.legend()\n",
    "    \n",
    "plt.show()"
   ]
  },
  {
   "cell_type": "markdown",
   "metadata": {},
   "source": [
    "Using `better_lc`, CD takes larger steps toward the optimal solution than without using `better_lc`, allowing the algorithm to reach faster the optimal solution."
   ]
  },
  {
   "cell_type": "markdown",
   "metadata": {},
   "source": [
    "# Part 3: Real data\n",
    "\n",
    "We will compare vanilla cyclic CD and ISTA to solve the Lasso on a real dataset, called _leukemia_.\n",
    "\n",
    "You can download the file here: http://web.stanford.edu/~hastie/CASI_files/DATA/leukemia_big.csv, and you should place it in the same folder as the current notebook."
   ]
  },
  {
   "cell_type": "code",
   "execution_count": 12,
   "metadata": {},
   "outputs": [
    {
     "name": "stdout",
     "output_type": "stream",
     "text": [
      "(72, 7128)\n",
      "[ 1  1 -1 -1  1  1  1 -1]\n"
     ]
    }
   ],
   "source": [
    "from numpy import genfromtxt\n",
    "y = 2 * (genfromtxt('leukemia_big.csv', delimiter=',', dtype=str)[0] == 'ALL') - 1\n",
    "X = genfromtxt('leukemia_big.csv', delimiter=',')[1:].T\n",
    "\n",
    "print(X.shape)\n",
    "print(y[::10])"
   ]
  },
  {
   "cell_type": "code",
   "execution_count": 13,
   "metadata": {},
   "outputs": [
    {
     "name": "stdout",
     "output_type": "stream",
     "text": [
      "16.9706461374\n"
     ]
    }
   ],
   "source": [
    "lambda_max_lasso = norm(X.T.dot(y), ord=np.inf)\n",
    "lambd = lambda_max_lasso / 5.\n",
    "print(lambd)"
   ]
  },
  {
   "cell_type": "markdown",
   "metadata": {},
   "source": [
    "Code:\n",
    "- a simple proximal gradient solver for the Lasso\n",
    "- a prox CD solver for the Lasso\n",
    "and compare them on this dataset. \n",
    "Do the plots in terms of epochs, not updates (to be fair to CD)."
   ]
  },
  {
   "cell_type": "markdown",
   "metadata": {},
   "source": [
    "Let's apply an ISTA algorithm as a simple proximal gradient solver for the Lasso"
   ]
  },
  {
   "cell_type": "code",
   "execution_count": 14,
   "metadata": {},
   "outputs": [],
   "source": [
    "def lip_logreg(A):\n",
    "    \"\"\"Lipschitz constant for logistic loss\"\"\"    \n",
    "    return (norm(A, ord=2) ** 2) / 4.\n",
    "\n",
    "def loss_logreg(x, A, b):\n",
    "    bAx = b * np.dot(A, x)\n",
    "    return np.sum(np.log(1. + np.exp(- bAx)))\n",
    "\n",
    "def grad_logreg(x, A, b):\n",
    "    bAx = b * np.dot(A, x)\n",
    "    grad_f = np.sum(- bAx / (1 + np.exp(bAx)))\n",
    "    \n",
    "    return grad_f\n",
    "\n",
    "def lasso(x, s):\n",
    "    \"\"\"Value of the Lasso penalization at x\"\"\"\n",
    "    return s * norm(x, ord=1)\n",
    "\n",
    "def ista(x0, f, grad_f, g, prox_g, step, s=0., n_iter=50):\n",
    "    \"\"\"\n",
    "    Proximal gradient descent algorithm\n",
    "    \"\"\"\n",
    "    \n",
    "    x = x0.copy()\n",
    "    x_new = x0.copy()\n",
    "    n_samples, n_features = A.shape\n",
    "\n",
    "    # objective history\n",
    "    objectives = []\n",
    "    # Current objective\n",
    "    obj = f(x, X, y) + g(x, s)\n",
    "    objectives.append(obj)\n",
    "    \n",
    "    for k in range(n_iter + 1):\n",
    "\n",
    "        x = prox_g(x - step * grad_f(x, X, y), s * step) # Update formula\n",
    "                \n",
    "        obj = f(x, X, y) + g(x, s)\n",
    "        objectives.append(obj)\n",
    "        \n",
    "    return x, objectives"
   ]
  },
  {
   "cell_type": "code",
   "execution_count": 15,
   "metadata": {},
   "outputs": [],
   "source": [
    "n_features = X.shape[1]\n",
    "x0 = np.zeros(n_features)\n",
    "x_ista, obj_ista = ista(x0, loss_logreg, grad_logreg, lasso, soft_thresh, 1. / lip_logreg(X), lambd, 50)"
   ]
  },
  {
   "cell_type": "markdown",
   "metadata": {},
   "source": [
    "Now let's use a proximal CD solver:"
   ]
  },
  {
   "cell_type": "code",
   "execution_count": 16,
   "metadata": {},
   "outputs": [],
   "source": [
    "x_cd, obj_cd = cd_logreg(X, y, lambd, n_iter=50)"
   ]
  },
  {
   "cell_type": "markdown",
   "metadata": {},
   "source": [
    "Let's make now some plots to compare:"
   ]
  },
  {
   "cell_type": "code",
   "execution_count": 17,
   "metadata": {},
   "outputs": [
    {
     "data": {
      "image/png": "[encoded data removed]",
      "text/plain": [
       "<matplotlib.figure.Figure at 0x151fdbc8d0>"
      ]
     },
     "metadata": {},
     "output_type": "display_data"
    }
   ],
   "source": [
    "plt.figure(figsize=(15, 5))\n",
    "plt.semilogy(obj_ista, label='ISTA')\n",
    "plt.semilogy(obj_cd, label='Proximal CD')\n",
    "plt.title(\"Loss\")\n",
    "plt.xlabel(\"Epoch\")\n",
    "plt.ylabel(\"objective\")\n",
    "plt.legend()\n",
    "plt.show()"
   ]
  },
  {
   "cell_type": "markdown",
   "metadata": {},
   "source": [
    "Here we have a lot of features, the use of small steps and iterate over all the features in the proximal CD allowed the latter to have a faster convergence than ISTA on the same number of epochs."
   ]
  }
 ],
 "metadata": {
  "anaconda-cloud": {},
  "kernelspec": {
   "display_name": "Python 3",
   "language": "python",
   "name": "python3"
  },
  "language_info": {
   "codemirror_mode": {
    "name": "ipython",
    "version": 3
   },
   "file_extension": ".py",
   "mimetype": "text/x-python",
   "name": "python",
   "nbconvert_exporter": "python",
   "pygments_lexer": "ipython3",
   "version": "3.6.4"
  }
 },
 "nbformat": 4,
 "nbformat_minor": 2
}
